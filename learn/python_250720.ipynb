{
 "cells": [
  {
   "cell_type": "markdown",
   "id": "1f0d446a",
   "metadata": {},
   "source": [
    "### The basic usage for Python"
   ]
  },
  {
   "cell_type": "code",
   "execution_count": 5,
   "id": "6e4a59f5",
   "metadata": {},
   "outputs": [
    {
     "name": "stdout",
     "output_type": "stream",
     "text": [
      "Hello, World!\n",
      "15\n",
      "15.0\n",
      "15\n",
      "True\n",
      "[15]\n",
      "(15,)\n",
      "{'value': 15}\n",
      "{15}\n",
      "None\n",
      "b'15'\n",
      "bytearray(b'\\x0f')\n",
      "range(0, 15)\n",
      "<memory at 0x729e30124400>\n",
      "slice(0, 15, None)\n",
      "<function example_function at 0x729e300df0a0>\n",
      "<class '__main__.ExampleClass'>\n"
     ]
    }
   ],
   "source": [
    "print(\"Hello, World!\")\n",
    "# integer\n",
    "print(15)\n",
    "# float\n",
    "print(15.0)\n",
    "# string\n",
    "print(\"15\")\n",
    "# boolean\n",
    "print(True)\n",
    "# list\n",
    "print([15])\n",
    "# tuple\n",
    "print((15,))\n",
    "# dictionary\n",
    "print({\"value\": 15})\n",
    "# set\n",
    "print({15})\n",
    "# NoneType\n",
    "print(None)\n",
    "# bytes\n",
    "print(b\"15\")\n",
    "# bytearray\n",
    "print(bytearray([15]))\n",
    "# range\n",
    "print(range(15))\n",
    "# memoryview\n",
    "print(memoryview(bytes([15])))\n",
    "# slice\n",
    "print(slice(0, 15))\n",
    "# function\n",
    "def example_function():\n",
    "    return \"This is a function\"\n",
    "print(example_function)\n",
    "# class\n",
    "class ExampleClass:\n",
    "    def __init__(self):\n",
    "        self.value = \"This is a class\"\n",
    "\n",
    "    def method(self):\n",
    "        return \"This is a method\"\n",
    "print(ExampleClass)"
   ]
  }
 ],
 "metadata": {
  "kernelspec": {
   "display_name": "pydev",
   "language": "python",
   "name": "python3"
  },
  "language_info": {
   "codemirror_mode": {
    "name": "ipython",
    "version": 3
   },
   "file_extension": ".py",
   "mimetype": "text/x-python",
   "name": "python",
   "nbconvert_exporter": "python",
   "pygments_lexer": "ipython3",
   "version": "3.10.18"
  }
 },
 "nbformat": 4,
 "nbformat_minor": 5
}
